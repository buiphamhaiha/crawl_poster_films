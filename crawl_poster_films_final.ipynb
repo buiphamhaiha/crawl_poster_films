{
  "cells": [
    {
      "cell_type": "markdown",
      "metadata": {
        "id": "view-in-github",
        "colab_type": "text"
      },
      "source": [
        "<a href=\"https://colab.research.google.com/github/buiphamhaiha/crawl_poster_films/blob/main/crawl_poster_films_final.ipynb\" target=\"_parent\"><img src=\"https://colab.research.google.com/assets/colab-badge.svg\" alt=\"Open In Colab\"/></a>"
      ]
    },
    {
      "cell_type": "markdown",
      "metadata": {
        "id": "sTYfLCZjEh1C"
      },
      "source": [
        "# 1. Lấy dữ liệu tên film trong movie.dat"
      ]
    },
    {
      "cell_type": "code",
      "execution_count": null,
      "metadata": {
        "colab": {
          "base_uri": "https://localhost:8080/"
        },
        "id": "SY0D3po7CM4L",
        "outputId": "ec724096-c220-4b60-a794-808379a6a908"
      },
      "outputs": [
        {
          "output_type": "stream",
          "name": "stdout",
          "text": [
            "Mounted at /content/drive\n"
          ]
        }
      ],
      "source": [
        "from google.colab import drive\n",
        "drive.mount('/content/drive')"
      ]
    },
    {
      "cell_type": "code",
      "execution_count": null,
      "metadata": {
        "id": "8xjP-fkYCGae"
      },
      "outputs": [],
      "source": [
        "import requests\n",
        "from bs4 import BeautifulSoup\n",
        "import pandas as pd"
      ]
    },
    {
      "cell_type": "code",
      "execution_count": null,
      "metadata": {
        "colab": {
          "base_uri": "https://localhost:8080/"
        },
        "id": "JH_fcY0UClXi",
        "outputId": "47239ca2-77bf-468e-e41e-d60e2b58f9ce"
      },
      "outputs": [
        {
          "output_type": "stream",
          "name": "stdout",
          "text": [
            "Requirement already satisfied: chardet in /usr/local/lib/python3.10/dist-packages (5.2.0)\n"
          ]
        }
      ],
      "source": [
        "!pip install chardet"
      ]
    },
    {
      "cell_type": "code",
      "execution_count": null,
      "metadata": {
        "id": "rCB5FsmmCnpC"
      },
      "outputs": [],
      "source": [
        "import chardet"
      ]
    },
    {
      "cell_type": "code",
      "execution_count": null,
      "metadata": {
        "colab": {
          "base_uri": "https://localhost:8080/"
        },
        "id": "fDHpv-IBCo65",
        "outputId": "d9e8dc3e-0c99-42dc-c518-8bd6f2caf015"
      },
      "outputs": [
        {
          "output_type": "stream",
          "name": "stderr",
          "text": [
            "<ipython-input-5-9f72c5877644>:4: ParserWarning: Falling back to the 'python' engine because the 'c' engine does not support regex separators (separators > 1 char and different from '\\s+' are interpreted as regex); you can avoid this warning by specifying engine='python'.\n",
            "  data = pd.read_csv('/content/drive/MyDrive/website_film_python_project/movies.dat', delimiter='::', encoding=encoding)\n"
          ]
        }
      ],
      "source": [
        "with open('/content/drive/MyDrive/website_film_python_project/movies.dat', 'rb') as f:\n",
        "    encoding = chardet.detect(f.read())['encoding']\n",
        "\n",
        "data = pd.read_csv('/content/drive/MyDrive/website_film_python_project/movies.dat', delimiter='::', encoding=encoding)"
      ]
    },
    {
      "cell_type": "code",
      "execution_count": null,
      "metadata": {
        "colab": {
          "base_uri": "https://localhost:8080/"
        },
        "id": "kY0yT_IQCwF2",
        "outputId": "2427b0ae-f3f6-406e-d67e-bf1e1309b360"
      },
      "outputs": [
        {
          "output_type": "stream",
          "name": "stdout",
          "text": [
            "      film_id                  film_namess release_year\n",
            "0           2                      Jumanji         1995\n",
            "1           3             Grumpier Old Men         1995\n",
            "2           4            Waiting to Exhale         1995\n",
            "3           5  Father of the Bride Part II         1995\n",
            "4           6                         Heat         1995\n",
            "...       ...                          ...          ...\n",
            "3877     3948             Meet the Parents         2000\n",
            "3878     3949          Requiem for a Dream         2000\n",
            "3879     3950                    Tigerland         2000\n",
            "3880     3951             Two Family House         2000\n",
            "3881     3952                The Contender         2000\n",
            "\n",
            "[3882 rows x 3 columns]\n",
            "      film_id               film_namess release_year\n",
            "2382     2452  The Gate II: Trespassers         1990\n",
            "2383     2453     The Boy Who Could Fly         1986\n",
            "2384     2454                   The Fly         1958\n",
            "2385     2455                   The Fly         1986\n",
            "2386     2456                The Fly II         1989\n",
            "...       ...                       ...          ...\n",
            "3877     3948          Meet the Parents         2000\n",
            "3878     3949       Requiem for a Dream         2000\n",
            "3879     3950                 Tigerland         2000\n",
            "3880     3951          Two Family House         2000\n",
            "3881     3952             The Contender         2000\n",
            "\n",
            "[1500 rows x 3 columns]\n",
            "      film_id                             film_namess     release_year\n",
            "0           2                                 Jumanji             1995\n",
            "1           3                        Grumpier Old Men             1995\n",
            "2           4                       Waiting to Exhale             1995\n",
            "3           5             Father of the Bride Part II             1995\n",
            "4           6                                    Heat             1995\n",
            "...       ...                                     ...              ...\n",
            "1495     1533                             The Promise      La Promesse\n",
            "1496     1534                              Le Bonheur             1965\n",
            "1497     1535               Love! Valour! Compassion!             1997\n",
            "1498     1537                         Shall We Dance?  Shall We Dansu?\n",
            "1499     1538  The Second Jungle Book: Mowgli & Baloo             1997\n",
            "\n",
            "[1500 rows x 3 columns]\n",
            "      film_id                    film_namess release_year\n",
            "1500     1539                      Twin Town         1997\n",
            "1501     1541               Addicted to Love         1997\n",
            "1502     1542                    Brassed Off         1996\n",
            "1503     1543         The Designated Mourner         1997\n",
            "1504     1544  The Lost World: Jurassic Park         1997\n",
            "...       ...                            ...          ...\n",
            "2377     2447                  Varsity Blues         1999\n",
            "2378     2448                          Virus         1999\n",
            "2379     2449    The Garbage Pail Kids Movie         1987\n",
            "2380     2450                Howard the Duck         1986\n",
            "2381     2451                       The Gate         1987\n",
            "\n",
            "[882 rows x 3 columns]\n"
          ]
        }
      ],
      "source": [
        "#Chỉ lấy tên film và năm phát hành\n",
        "film_id = data.iloc[:,0]\n",
        "film_names = data.iloc[:, 1].str.split('(').str.get(0).tolist()\n",
        "film_names = [name.rstrip() for name in film_names]\n",
        "\n",
        "release_year = data.iloc[:, 1].str.split('(').str.get(1).str.split(')').str.get(0).tolist()\n",
        "film_namess = []\n",
        "for name in film_names:\n",
        "    parts = name.split(\", \")\n",
        "    if len(parts) == 2:\n",
        "    #nếu số từ sau dấu phẩy > số từ trước dấu phẩy thì giữ nguyên\n",
        "    #nếu số từ sau dấu phẩy <= số từ trước dấu phẩy thì chuyển vị trí các từ sau dấu phẩy lên trước\n",
        "        len_parts1 = len(parts[1].split())\n",
        "        len_parts0 = len(parts[0].split())\n",
        "        if len_parts1 <= len_parts0:\n",
        "            film_name =  f'{parts[1]} {parts[0]}'\n",
        "        else:\n",
        "            film_name = name\n",
        "        film_namess.append(film_name)\n",
        "    else:\n",
        "        film_namess.append(name)\n",
        "\n",
        "#Tạo df\n",
        "\n",
        "film_df = pd.DataFrame({\n",
        "    'film_id': film_id,\n",
        "    'film_namess': film_namess,\n",
        "    'release_year': release_year\n",
        "})\n",
        "\n",
        "# Print the DataFrame\n",
        "print(film_df)\n",
        "\n",
        "film_df1 = film_df.iloc[-1500:]\n",
        "print(film_df1)\n",
        "\n",
        "film_df2 = film_df.iloc[0:1500]\n",
        "print(film_df2)\n",
        "\n",
        "film_df3 = film_df.iloc[1500:2382]\n",
        "print(film_df3)"
      ]
    },
    {
      "cell_type": "markdown",
      "metadata": {
        "id": "eZ776pJfFgeE"
      },
      "source": [
        "#2. Crawl dữ liệu poster film IMDB"
      ]
    },
    {
      "cell_type": "code",
      "execution_count": null,
      "metadata": {
        "colab": {
          "base_uri": "https://localhost:8080/"
        },
        "id": "sWy8cahGNDjp",
        "outputId": "e98d21ab-aba2-49e4-f7b0-f49b5153379e"
      },
      "outputs": [
        {
          "output_type": "stream",
          "name": "stdout",
          "text": [
            "Requirement already satisfied: IMDbPY in /usr/local/lib/python3.10/dist-packages (2022.7.9)\n",
            "Requirement already satisfied: cinemagoer in /usr/local/lib/python3.10/dist-packages (from IMDbPY) (2023.5.1)\n",
            "Requirement already satisfied: SQLAlchemy in /usr/local/lib/python3.10/dist-packages (from cinemagoer->IMDbPY) (2.0.29)\n",
            "Requirement already satisfied: lxml in /usr/local/lib/python3.10/dist-packages (from cinemagoer->IMDbPY) (4.9.4)\n",
            "Requirement already satisfied: typing-extensions>=4.6.0 in /usr/local/lib/python3.10/dist-packages (from SQLAlchemy->cinemagoer->IMDbPY) (4.11.0)\n",
            "Requirement already satisfied: greenlet!=0.4.17 in /usr/local/lib/python3.10/dist-packages (from SQLAlchemy->cinemagoer->IMDbPY) (3.0.3)\n"
          ]
        }
      ],
      "source": [
        "!pip install IMDbPY"
      ]
    },
    {
      "cell_type": "code",
      "execution_count": null,
      "metadata": {
        "id": "4YRbRutMN3Ga"
      },
      "outputs": [],
      "source": [
        "import imdb\n",
        "import pandas as pd\n",
        "import concurrent.futures\n",
        "\n",
        "ia = imdb.IMDb()"
      ]
    },
    {
      "cell_type": "code",
      "execution_count": null,
      "metadata": {
        "colab": {
          "base_uri": "https://localhost:8080/"
        },
        "id": "9ZAeTZ-eaf2K",
        "outputId": "6528050c-20b8-4511-bdcc-b1096cf5e4f8"
      },
      "outputs": [
        {
          "output_type": "stream",
          "name": "stdout",
          "text": [
            "      film_id                film_name release_year  \\\n",
            "0        2452  Gate 2: The Trespassers         1990   \n",
            "1        2453    The Boy Who Could Fly         1986   \n",
            "2        2454                  The Fly         1958   \n",
            "3        2455                  The Fly         1986   \n",
            "4        2456               The Fly II         1989   \n",
            "...       ...                      ...          ...   \n",
            "1495     3948         Meet the Parents         2000   \n",
            "1496     3949      Requiem for a Dream         2000   \n",
            "1497     3950                Tigerland         2000   \n",
            "1498     3951         Two Family House         2000   \n",
            "1499     3952            The Contender         2000   \n",
            "\n",
            "                                             poster_url  \n",
            "0     https://m.media-amazon.com/images/M/MV5BMGY1MT...  \n",
            "1     https://m.media-amazon.com/images/M/MV5BMmIwYT...  \n",
            "2     https://m.media-amazon.com/images/M/MV5BYTUzMm...  \n",
            "3     https://m.media-amazon.com/images/M/MV5BYTUzMm...  \n",
            "4     https://m.media-amazon.com/images/M/MV5BOTAyYj...  \n",
            "...                                                 ...  \n",
            "1495  https://m.media-amazon.com/images/M/MV5BMGNlMG...  \n",
            "1496  https://m.media-amazon.com/images/M/MV5BOTdiNz...  \n",
            "1497  https://m.media-amazon.com/images/M/MV5BMDNjYT...  \n",
            "1498  https://m.media-amazon.com/images/M/MV5BN2JkZj...  \n",
            "1499  https://m.media-amazon.com/images/M/MV5BYTIzYT...  \n",
            "\n",
            "[1500 rows x 4 columns]\n"
          ]
        }
      ],
      "source": [
        "def get_exact_movie_info(movie_names, film_df1):\n",
        "    # Tạo đối tượng IMDb\n",
        "    ia = imdb.IMDb()\n",
        "\n",
        "    exact_titles = []  # Danh sách các tên phim chính xác\n",
        "    film_ids = []  # Danh sách các ID phim tương ứng\n",
        "    film_release_years = []  # Danh sách các năm phát hành phim\n",
        "    poster_urls = []  # Danh sách các URL ảnh bìa\n",
        "\n",
        "    for i, movie_name in enumerate(movie_names):\n",
        "        # Tìm kiếm phim bằng tên\n",
        "        search_results = ia.search_movie(movie_name)\n",
        "\n",
        "        exact_title = None  # Tên phim chính xác\n",
        "        film_id = None  # ID phim\n",
        "        film_release_year = None  # Năm phát hành phim\n",
        "        poster_url = None  # URL ảnh bìa\n",
        "\n",
        "        # Lấy các tên phim chính xác từ kết quả tìm kiếm\n",
        "        if search_results:\n",
        "            for result in search_results:\n",
        "                if result['title'].lower() == movie_name.lower():\n",
        "                    exact_title = result['title']\n",
        "                    film_id = film_df1['film_id'].iloc[i]  # Lấy film_id từ df\n",
        "                    film_release_year = film_df1['release_year'].iloc[i]  # Lấy release_year từ df\n",
        "                    break\n",
        "            if not exact_title:  # Nếu không có tên phim chính xác nào, chọn tên đầu tiên\n",
        "                exact_title = search_results[0]['title']\n",
        "                film_id = film_df1['film_id'].iloc[i]  # Lấy film_id từ df\n",
        "                film_release_year = film_df1['release_year'].iloc[i]  # Lấy release_year từ df\n",
        "        else:\n",
        "            exact_title = \"Không tìm thấy phim nào với tên này.\"\n",
        "\n",
        "        # Lấy URL ảnh bìa\n",
        "        if exact_title != \"Không tìm thấy phim nào với tên này.\":\n",
        "            exact_movie = ia.get_movie(search_results[0].movieID)\n",
        "            poster_url = exact_movie.get('cover url', 'Not available')\n",
        "\n",
        "        exact_titles.append(exact_title)\n",
        "        film_ids.append(film_id)\n",
        "        film_release_years.append(film_release_year)\n",
        "        poster_urls.append(poster_url)\n",
        "\n",
        "    # Tạo DataFrame từ dữ liệu đã thu thập\n",
        "    film_poster_df = pd.DataFrame({\n",
        "        'film_id': film_ids,\n",
        "        'film_name': exact_titles,\n",
        "        'release_year': film_release_years,\n",
        "        'poster_url': poster_urls\n",
        "    })\n",
        "\n",
        "    return film_poster_df\n",
        "\n",
        "movie_names = film_df1['film_namess']\n",
        "film_poster_df = get_exact_movie_info(movie_names, film_df1)\n",
        "\n",
        "print(film_poster_df)\n",
        "\n",
        "# Save DataFrame to CSV\n",
        "# film_poster_df.to_csv('film_posters.csv', index=False)"
      ]
    },
    {
      "cell_type": "code",
      "source": [
        "def get_exact_movie_info(movie_names, film_df2):\n",
        "    # Tạo đối tượng IMDb\n",
        "    ia = imdb.IMDb()\n",
        "\n",
        "    exact_titles = []  # Danh sách các tên phim chính xác\n",
        "    film_ids = []  # Danh sách các ID phim tương ứng\n",
        "    film_release_years = []  # Danh sách các năm phát hành phim\n",
        "    poster_urls = []  # Danh sách các URL ảnh bìa\n",
        "\n",
        "    for i, movie_name in enumerate(movie_names):\n",
        "        # Tìm kiếm phim bằng tên\n",
        "        search_results = ia.search_movie(movie_name)\n",
        "\n",
        "        exact_title = None  # Tên phim chính xác\n",
        "        film_id = None  # ID phim\n",
        "        film_release_year = None  # Năm phát hành phim\n",
        "        poster_url = None  # URL ảnh bìa\n",
        "\n",
        "        # Lấy các tên phim chính xác từ kết quả tìm kiếm\n",
        "        if search_results:\n",
        "            for result in search_results:\n",
        "                if result['title'].lower() == movie_name.lower():\n",
        "                    exact_title = result['title']\n",
        "                    film_id = film_df2['film_id'].iloc[i]  # Lấy film_id từ df\n",
        "                    film_release_year = film_df2['release_year'].iloc[i]  # Lấy release_year từ df\n",
        "                    break\n",
        "            if not exact_title:  # Nếu không có tên phim chính xác nào, chọn tên đầu tiên\n",
        "                exact_title = search_results[0]['title']\n",
        "                film_id = film_df2['film_id'].iloc[i]  # Lấy film_id từ df\n",
        "                film_release_year = film_df2['release_year'].iloc[i]  # Lấy release_year từ df\n",
        "        else:\n",
        "            exact_title = \"Không tìm thấy phim nào với tên này.\"\n",
        "\n",
        "        # Lấy URL ảnh bìa\n",
        "        if exact_title != \"Không tìm thấy phim nào với tên này.\":\n",
        "            exact_movie = ia.get_movie(search_results[0].movieID)\n",
        "            poster_url = exact_movie.get('cover url', 'Not available')\n",
        "\n",
        "        exact_titles.append(exact_title)\n",
        "        film_ids.append(film_id)\n",
        "        film_release_years.append(film_release_year)\n",
        "        poster_urls.append(poster_url)\n",
        "\n",
        "    # Tạo DataFrame từ dữ liệu đã thu thập\n",
        "    film_poster_df1 = pd.DataFrame({\n",
        "        'film_id': film_ids,\n",
        "        'film_name': exact_titles,\n",
        "        'release_year': film_release_years,\n",
        "        'poster_url': poster_urls\n",
        "    })\n",
        "\n",
        "    return film_poster_df1\n",
        "\n",
        "movie_names = film_df2['film_namess']\n",
        "film_poster_df1 = get_exact_movie_info(movie_names, film_df2)\n",
        "\n",
        "print(film_poster_df1)\n",
        "\n",
        "# Save DataFrame to CSV\n",
        "# film_poster_df.to_csv('film_posters.csv', index=False)"
      ],
      "metadata": {
        "colab": {
          "base_uri": "https://localhost:8080/"
        },
        "id": "2TwefqNRfsRg",
        "outputId": "2f5fa938-adc9-4683-90e8-e369f790d7aa"
      },
      "execution_count": null,
      "outputs": [
        {
          "output_type": "stream",
          "name": "stdout",
          "text": [
            "      film_id                               film_name     release_year  \\\n",
            "0           2                                 Jumanji             1995   \n",
            "1           3                        Grumpier Old Men             1995   \n",
            "2           4                       Waiting to Exhale             1995   \n",
            "3           5             Father of the Bride Part II             1995   \n",
            "4           6                                    Heat             1995   \n",
            "...       ...                                     ...              ...   \n",
            "1495     1533                             The Promise      La Promesse   \n",
            "1496     1534                              Le Bonheur             1965   \n",
            "1497     1535               Love! Valour! Compassion!             1997   \n",
            "1498     1537                         Shall We Dance?  Shall We Dansu?   \n",
            "1499     1538  The Second Jungle Book: Mowgli & Baloo             1997   \n",
            "\n",
            "                                             poster_url  \n",
            "0     https://m.media-amazon.com/images/M/MV5BZTk2Zm...  \n",
            "1     https://m.media-amazon.com/images/M/MV5BMDkwYT...  \n",
            "2     https://m.media-amazon.com/images/M/MV5BYzcyMD...  \n",
            "3     https://m.media-amazon.com/images/M/MV5BOTEyNz...  \n",
            "4     https://m.media-amazon.com/images/M/MV5BYjZjNT...  \n",
            "...                                                 ...  \n",
            "1495  https://m.media-amazon.com/images/M/MV5BYTI5Nm...  \n",
            "1496  https://m.media-amazon.com/images/M/MV5BYjRmNj...  \n",
            "1497  https://m.media-amazon.com/images/M/MV5BYWY4Mz...  \n",
            "1498  https://m.media-amazon.com/images/M/MV5BMTcwOD...  \n",
            "1499  https://m.media-amazon.com/images/M/MV5BMzZhOT...  \n",
            "\n",
            "[1500 rows x 4 columns]\n"
          ]
        }
      ]
    },
    {
      "cell_type": "code",
      "source": [
        "film_poster_df.to_csv('film_posters.csv', index=False)\n",
        "film_poster_df1.to_csv('film_posters1.csv', index=False)"
      ],
      "metadata": {
        "id": "dKUz14VuudAC"
      },
      "execution_count": null,
      "outputs": []
    },
    {
      "cell_type": "code",
      "source": [
        "def get_exact_movie_info(movie_names, film_df3):\n",
        "    # Tạo đối tượng IMDb\n",
        "    ia = imdb.IMDb()\n",
        "\n",
        "    exact_titles = []  # Danh sách các tên phim chính xác\n",
        "    film_ids = []  # Danh sách các ID phim tương ứng\n",
        "    film_release_years = []  # Danh sách các năm phát hành phim\n",
        "    poster_urls = []  # Danh sách các URL ảnh bìa\n",
        "\n",
        "    for i, movie_name in enumerate(movie_names):\n",
        "        # Tìm kiếm phim bằng tên\n",
        "        search_results = ia.search_movie(movie_name)\n",
        "\n",
        "        exact_title = None  # Tên phim chính xác\n",
        "        film_id = None  # ID phim\n",
        "        film_release_year = None  # Năm phát hành phim\n",
        "        poster_url = None  # URL ảnh bìa\n",
        "\n",
        "        # Lấy các tên phim chính xác từ kết quả tìm kiếm\n",
        "        if search_results:\n",
        "            for result in search_results:\n",
        "                if result['title'].lower() == movie_name.lower():\n",
        "                    exact_title = result['title']\n",
        "                    film_id = film_df3['film_id'].iloc[i]  # Lấy film_id từ df\n",
        "                    film_release_year = film_df3['release_year'].iloc[i]  # Lấy release_year từ df\n",
        "                    break\n",
        "            if not exact_title:  # Nếu không có tên phim chính xác nào, chọn tên đầu tiên\n",
        "                exact_title = search_results[0]['title']\n",
        "                film_id = film_df3['film_id'].iloc[i]  # Lấy film_id từ df\n",
        "                film_release_year = film_df3['release_year'].iloc[i]  # Lấy release_year từ df\n",
        "        else:\n",
        "            exact_title = \"Không tìm thấy phim nào với tên này.\"\n",
        "\n",
        "        # Lấy URL ảnh bìa\n",
        "        if exact_title != \"Không tìm thấy phim nào với tên này.\":\n",
        "            exact_movie = ia.get_movie(search_results[0].movieID)\n",
        "            poster_url = exact_movie.get('cover url', 'Not available')\n",
        "\n",
        "        exact_titles.append(exact_title)\n",
        "        film_ids.append(film_id)\n",
        "        film_release_years.append(film_release_year)\n",
        "        poster_urls.append(poster_url)\n",
        "\n",
        "    # Tạo DataFrame từ dữ liệu đã thu thập\n",
        "    film_poster_df2 = pd.DataFrame({\n",
        "        'film_id': film_ids,\n",
        "        'film_name': exact_titles,\n",
        "        'release_year': film_release_years,\n",
        "        'poster_url': poster_urls\n",
        "    })\n",
        "\n",
        "    return film_poster_df2\n",
        "\n",
        "movie_names = film_df3['film_namess']\n",
        "film_poster_df2 = get_exact_movie_info(movie_names, film_df3)\n",
        "\n",
        "print(film_poster_df2)\n",
        "\n",
        "# Save DataFrame to CSV\n",
        "film_poster_df2.to_csv('film_posters2.csv', index=False)"
      ],
      "metadata": {
        "colab": {
          "base_uri": "https://localhost:8080/"
        },
        "id": "0iVi-4c_hY6r",
        "outputId": "155a1e45-2877-48e3-ddd4-fe7687ceedb3"
      },
      "execution_count": null,
      "outputs": [
        {
          "output_type": "stream",
          "name": "stdout",
          "text": [
            "     film_id                      film_name release_year  \\\n",
            "0       1539                      Twin Town         1997   \n",
            "1       1541               Addicted to Love         1997   \n",
            "2       1542                    Brassed Off         1996   \n",
            "3       1543         The Designated Mourner         1997   \n",
            "4       1544  The Lost World: Jurassic Park         1997   \n",
            "..       ...                            ...          ...   \n",
            "877     2447                  Varsity Blues         1999   \n",
            "878     2448                          Virus         1999   \n",
            "879     2449    The Garbage Pail Kids Movie         1987   \n",
            "880     2450                Howard the Duck         1986   \n",
            "881     2451                       The Gate         1987   \n",
            "\n",
            "                                            poster_url  \n",
            "0    https://m.media-amazon.com/images/M/MV5BOTQ1MW...  \n",
            "1    https://m.media-amazon.com/images/M/MV5BZDU5Zj...  \n",
            "2    https://m.media-amazon.com/images/M/MV5BY2Y5ND...  \n",
            "3    https://m.media-amazon.com/images/M/MV5BMTY2ND...  \n",
            "4    https://m.media-amazon.com/images/M/MV5BMDFlMm...  \n",
            "..                                                 ...  \n",
            "877  https://m.media-amazon.com/images/M/MV5BZGVlYj...  \n",
            "878  https://m.media-amazon.com/images/M/MV5BNGRiMm...  \n",
            "879  https://m.media-amazon.com/images/M/MV5BM2JlNT...  \n",
            "880  https://m.media-amazon.com/images/M/MV5BMGE5YT...  \n",
            "881  https://m.media-amazon.com/images/M/MV5BMWU4Zm...  \n",
            "\n",
            "[882 rows x 4 columns]\n"
          ]
        }
      ]
    },
    {
      "cell_type": "code",
      "source": [
        "import imdb\n",
        "\n",
        "def get_exact_movie_titles(movie_names):\n",
        "    # Tạo đối tượng IMDb\n",
        "    ia = imdb.IMDb()\n",
        "\n",
        "    exact_titles = []  # Danh sách các tên phim chính xác\n",
        "\n",
        "    for movie_name in movie_names:\n",
        "        # Tìm kiếm phim bằng tên\n",
        "        search_results = ia.search_movie(movie_name)\n",
        "\n",
        "        exact_title = None  # Tên phim chính xác\n",
        "\n",
        "        # Lấy các tên phim chính xác từ kết quả tìm kiếm\n",
        "        if search_results:\n",
        "            for result in search_results:\n",
        "                if result['title'].lower() == movie_name.lower():\n",
        "                    exact_title = result['title']\n",
        "                    break\n",
        "            if not exact_title:  # Nếu không có tên phim chính xác nào, chọn tên đầu tiên\n",
        "                exact_title = search_results[0]['title']\n",
        "        else:\n",
        "            exact_title = \"Không tìm thấy phim nào với tên này.\"\n",
        "\n",
        "        exact_titles.append(exact_title)\n",
        "\n",
        "    return exact_titles\n",
        "\n",
        "# Danh sách các tên phim\n",
        "movie_names = ['Slums of Beverly Hills. The Next Reel']\n",
        "exact_titles = get_exact_movie_titles(movie_names)\n",
        "\n",
        "ia = imdb.IMDb()\n",
        "for exact_title in exact_titles:\n",
        "    if exact_title != \"Không tìm thấy phim nào với tên này.\":\n",
        "        # Lấy đúng vị trí của phim trong kết quả tìm kiếm\n",
        "        movies = ia.search_movie(exact_title)\n",
        "        exact_movie = None\n",
        "        for movie in movies:\n",
        "            if movie['title'].lower() == exact_title.lower():\n",
        "                exact_movie = movie\n",
        "                break\n",
        "\n",
        "        if exact_movie:\n",
        "            movie = ia.get_movie(exact_movie.movieID)\n",
        "            poster_url = movie.get('cover url', 'Not available')\n",
        "            print(\"Tên phim chính xác:\", exact_title)\n",
        "            # print(\"Năm phát hành:\", exact_movie['year'])\n",
        "            print(\"Link ảnh bìa:\", poster_url)\n",
        "            print()  # In ra một dòng trống giữa mỗi phim\n",
        "        else:\n",
        "            print(\"Không tìm thấy thông tin cho phim:\", exact_title)\n",
        "    else:\n",
        "        print(\"Không tìm thấy phim nào với tên này.\")\n"
      ],
      "metadata": {
        "colab": {
          "base_uri": "https://localhost:8080/"
        },
        "id": "RC2JE92AWxah",
        "outputId": "424aa079-e700-4e77-fe2d-16aca53593b8"
      },
      "execution_count": null,
      "outputs": [
        {
          "output_type": "stream",
          "name": "stdout",
          "text": [
            "Tên phim chính xác: Slums of Beverly Hills. The Next Reel\n",
            "Link ảnh bìa: Not available\n",
            "\n"
          ]
        }
      ]
    },
    {
      "cell_type": "code",
      "source": [
        "import imdb\n",
        "\n",
        "ia = imdb.IMDb()\n",
        "user_input = \"Slums of Beverly Hills. The Next Reel\"\n",
        "moves = ia.search_movie(user_input)\n",
        "poster_url = movies[0]['cover url']\n",
        "print(poster_url)"
      ],
      "metadata": {
        "colab": {
          "base_uri": "https://localhost:8080/"
        },
        "id": "Yi6t1O20ZZsq",
        "outputId": "9597befc-9a04-48a2-9867-6275a0b7ae6f"
      },
      "execution_count": null,
      "outputs": [
        {
          "output_type": "stream",
          "name": "stdout",
          "text": [
            "https://m.media-amazon.com/images/M/MV5BODRjOGYwM2YtZWY1NS00Mzg5LTlkN2QtNGMxMDdiYTAxM2EwXkEyXkFqcGdeQXVyMTE3MTc3OTkz._V1_QL75_UY74_CR13,0,50,74_.jpg\n"
          ]
        }
      ]
    }
  ],
  "metadata": {
    "colab": {
      "provenance": [],
      "include_colab_link": true
    },
    "kernelspec": {
      "display_name": "Python 3",
      "name": "python3"
    },
    "language_info": {
      "name": "python"
    }
  },
  "nbformat": 4,
  "nbformat_minor": 0
}